{
 "cells": [
  {
   "cell_type": "markdown",
   "metadata": {},
   "source": [
    "## Project: Non-profit organization networking\n",
    "Module 19 Aim: To use neural networks and deep learning models (both supervised machine learning type of algorithms) to determine which charities should be supported and which are fradulent (similar to the loan report module)."
   ]
  },
  {
   "cell_type": "markdown",
   "metadata": {},
   "source": [
    "# Background Research"
   ]
  },
  {
   "cell_type": "markdown",
   "metadata": {},
   "source": [
    "## 19.1.1 Neural Network (Artificial Neural Networks, ANN)\n",
    "\n",
    "Key Points: \n",
    "\n",
    "1. ANNs are a set of algorithms that are modeled after the human brain; they are an advanced form of machine learning that recognizes patterns and features in input data and provides a clear quantitative output.\n",
    "\n",
    "\n",
    "2. The simplest form of a neural network is the layer of neurons - each of these neurons perform individual computations.\n",
    "\n",
    "\n",
    "3. The computations are connected and weighted against one another, until the neurons reach the final layer, which returns a numerical result or an encoded categorical result. \n",
    "\n",
    "\n",
    "4. Difference between a numerical and categorical result: a numerical result is a predicted measurement (int, number value); a categorical result is a label (words) - it predicts which group the input will come from. "
   ]
  },
  {
   "cell_type": "markdown",
   "metadata": {},
   "source": [
    "### Ways to use a neural network model\n",
    "\n",
    "1. Create a claffication algorithm - determines if an input belongs in one category vs another. Behaves similarly to a regression model where the dependent output variable predicted independent input variables.\n",
    "\n",
    "\n",
    "2. Can be an alternative to random forest, logistic regression, or linear regression models. "
   ]
  },
  {
   "cell_type": "markdown",
   "metadata": {},
   "source": [
    "### Advantages of neural network model:\n",
    "\n",
    "1. More effective at detecting complex, nonlinear relationships.\n",
    "\n",
    "\n",
    "2. Have greater tolerance for messy data and can learn to ignore noisy characteristics in data.\n",
    "\n",
    "### Disadvantages of neural network models:\n",
    "\n",
    "1. Layers of neurons are often too complex to dissect and understand (creating a black box problem)\n",
    "\n",
    "\n",
    "2. Neural networks are prone to overfitting (characterizing the training data so well that it does not effectively generalize to test data.)"
   ]
  },
  {
   "cell_type": "markdown",
   "metadata": {},
   "source": [
    "### Real life uses of neural networks:\n",
    "   1) Finance: used to detect fraud and trends in the stock market; \n",
    "    \n",
    "   2) Company profit via marketing: Amazon and Apple use neural networks to classify their consumers to provide targeted marketing as well as behavior training for robotic control systems. "
   ]
  },
  {
   "cell_type": "markdown",
   "metadata": {},
   "source": [
    "## 19.1.2 Perceptron, the Computational Neuron\n",
    "\n",
    "Key points:\n",
    "\n",
    "1. Computational neurons come from the field of artificial intelligence of the 1950s - the peceptron, was the machine for training the first neural network.\n",
    "\n",
    "\n",
    "2. The peceptron model is a single neural network unit; it mimics a biological neuron by receiving input data, weighing the information, and producing a clear output. \n",
    "\n",
    "\n",
    "#### 3. Four major components of a perceptron model:\n",
    "    \n",
    "    A. Input values (labelled x or X (chi))\n",
    "    \n",
    "    B. Weight coefficient for each input value w or w (omega)\n",
    "    \n",
    "    C. Bias - a constant value added to the input to influence the final decision, labelled as w0. \n",
    "    \n",
    "    D. Net summary function - aggregates all weighted inputs, as a weighted summation. \n",
    "\n",
    "#### 4. Most common use of a perceptron model:  \n",
    "\n",
    "1. Perceptrons are most commonly usd to separate data into two groups (also known as linear binary classifier) - i.e. algorithm works to classify two groups that can be separated by a linear equation (linearly separable).\n",
    "\n",
    "-Activation function: mathematical function applied to the end of each \"neuron\" that transforms the output to a quantitative value."
   ]
  },
  {
   "cell_type": "markdown",
   "metadata": {},
   "source": [
    "### Import Dependencies"
   ]
  },
  {
   "cell_type": "code",
   "execution_count": 1,
   "metadata": {},
   "outputs": [
    {
     "name": "stderr",
     "output_type": "stream",
     "text": [
      "/opt/anaconda3/envs/mlenv/lib/python3.7/site-packages/tensorflow/python/framework/dtypes.py:516: FutureWarning: Passing (type, 1) or '1type' as a synonym of type is deprecated; in a future version of numpy, it will be understood as (type, (1,)) / '(1,)type'.\n",
      "  _np_qint8 = np.dtype([(\"qint8\", np.int8, 1)])\n",
      "/opt/anaconda3/envs/mlenv/lib/python3.7/site-packages/tensorflow/python/framework/dtypes.py:517: FutureWarning: Passing (type, 1) or '1type' as a synonym of type is deprecated; in a future version of numpy, it will be understood as (type, (1,)) / '(1,)type'.\n",
      "  _np_quint8 = np.dtype([(\"quint8\", np.uint8, 1)])\n",
      "/opt/anaconda3/envs/mlenv/lib/python3.7/site-packages/tensorflow/python/framework/dtypes.py:518: FutureWarning: Passing (type, 1) or '1type' as a synonym of type is deprecated; in a future version of numpy, it will be understood as (type, (1,)) / '(1,)type'.\n",
      "  _np_qint16 = np.dtype([(\"qint16\", np.int16, 1)])\n",
      "/opt/anaconda3/envs/mlenv/lib/python3.7/site-packages/tensorflow/python/framework/dtypes.py:519: FutureWarning: Passing (type, 1) or '1type' as a synonym of type is deprecated; in a future version of numpy, it will be understood as (type, (1,)) / '(1,)type'.\n",
      "  _np_quint16 = np.dtype([(\"quint16\", np.uint16, 1)])\n",
      "/opt/anaconda3/envs/mlenv/lib/python3.7/site-packages/tensorflow/python/framework/dtypes.py:520: FutureWarning: Passing (type, 1) or '1type' as a synonym of type is deprecated; in a future version of numpy, it will be understood as (type, (1,)) / '(1,)type'.\n",
      "  _np_qint32 = np.dtype([(\"qint32\", np.int32, 1)])\n",
      "/opt/anaconda3/envs/mlenv/lib/python3.7/site-packages/tensorflow/python/framework/dtypes.py:525: FutureWarning: Passing (type, 1) or '1type' as a synonym of type is deprecated; in a future version of numpy, it will be understood as (type, (1,)) / '(1,)type'.\n",
      "  np_resource = np.dtype([(\"resource\", np.ubyte, 1)])\n",
      "/opt/anaconda3/envs/mlenv/lib/python3.7/site-packages/tensorboard/compat/tensorflow_stub/dtypes.py:541: FutureWarning: Passing (type, 1) or '1type' as a synonym of type is deprecated; in a future version of numpy, it will be understood as (type, (1,)) / '(1,)type'.\n",
      "  _np_qint8 = np.dtype([(\"qint8\", np.int8, 1)])\n",
      "/opt/anaconda3/envs/mlenv/lib/python3.7/site-packages/tensorboard/compat/tensorflow_stub/dtypes.py:542: FutureWarning: Passing (type, 1) or '1type' as a synonym of type is deprecated; in a future version of numpy, it will be understood as (type, (1,)) / '(1,)type'.\n",
      "  _np_quint8 = np.dtype([(\"quint8\", np.uint8, 1)])\n",
      "/opt/anaconda3/envs/mlenv/lib/python3.7/site-packages/tensorboard/compat/tensorflow_stub/dtypes.py:543: FutureWarning: Passing (type, 1) or '1type' as a synonym of type is deprecated; in a future version of numpy, it will be understood as (type, (1,)) / '(1,)type'.\n",
      "  _np_qint16 = np.dtype([(\"qint16\", np.int16, 1)])\n",
      "/opt/anaconda3/envs/mlenv/lib/python3.7/site-packages/tensorboard/compat/tensorflow_stub/dtypes.py:544: FutureWarning: Passing (type, 1) or '1type' as a synonym of type is deprecated; in a future version of numpy, it will be understood as (type, (1,)) / '(1,)type'.\n",
      "  _np_quint16 = np.dtype([(\"quint16\", np.uint16, 1)])\n",
      "/opt/anaconda3/envs/mlenv/lib/python3.7/site-packages/tensorboard/compat/tensorflow_stub/dtypes.py:545: FutureWarning: Passing (type, 1) or '1type' as a synonym of type is deprecated; in a future version of numpy, it will be understood as (type, (1,)) / '(1,)type'.\n",
      "  _np_qint32 = np.dtype([(\"qint32\", np.int32, 1)])\n",
      "/opt/anaconda3/envs/mlenv/lib/python3.7/site-packages/tensorboard/compat/tensorflow_stub/dtypes.py:550: FutureWarning: Passing (type, 1) or '1type' as a synonym of type is deprecated; in a future version of numpy, it will be understood as (type, (1,)) / '(1,)type'.\n",
      "  np_resource = np.dtype([(\"resource\", np.ubyte, 1)])\n"
     ]
    }
   ],
   "source": [
    "# Import our dependencies\n",
    "import pandas as pd\n",
    "import matplotlib as plt\n",
    "from sklearn.datasets import make_blobs\n",
    "import sklearn as skl\n",
    "import tensorflow as tf"
   ]
  },
  {
   "cell_type": "markdown",
   "metadata": {},
   "source": [
    "### Generate datset and graph data"
   ]
  },
  {
   "cell_type": "code",
   "execution_count": 2,
   "metadata": {},
   "outputs": [],
   "source": [
    "# Generate dummy dataset\n",
    "X, y = make_blobs(n_samples=1000, centers=2, n_features=2, random_state=78)"
   ]
  },
  {
   "cell_type": "code",
   "execution_count": 3,
   "metadata": {},
   "outputs": [
    {
     "name": "stdout",
     "output_type": "stream",
     "text": [
      "Labels: [1 0 0 1 1 1 0 0 0 1]\n",
      "Data: [[ 5.47809781  7.20371391]\n",
      " [-8.42848273  4.12188879]\n",
      " [-7.90544691  3.32363913]\n",
      " [ 6.41104118  5.52301297]\n",
      " [ 7.28859947  6.17122597]\n",
      " [ 5.28143957  5.18320278]\n",
      " [-6.82218763  4.29768887]\n",
      " [-9.75313748  4.71087077]\n",
      " [-9.64510084  3.00151179]\n",
      " [ 5.46592633  7.14051271]]\n"
     ]
    }
   ],
   "source": [
    "# Creating a DataFrame with the dummy data\n",
    "df = pd.DataFrame(X, columns=[\"Feature 1\", \"Feature 2\"])\n",
    "df[\"Target\"] = y\n",
    "print(f\"Labels: {y[:10]}\")\n",
    "print(f\"Data: {X[:10]}\")"
   ]
  },
  {
   "cell_type": "code",
   "execution_count": 4,
   "metadata": {},
   "outputs": [
    {
     "data": {
      "text/plain": [
       "<matplotlib.axes._subplots.AxesSubplot at 0x1a3445e550>"
      ]
     },
     "execution_count": 4,
     "metadata": {},
     "output_type": "execute_result"
    },
    {
     "data": {
      "image/png": "[encoded data removed]",
      "text/plain": [
       "<Figure size 432x288 with 2 Axes>"
      ]
     },
     "metadata": {
      "needs_background": "light"
     },
     "output_type": "display_data"
    }
   ],
   "source": [
    "# Plotting the dummy data\n",
    "df.plot.scatter(x=\"Feature 1\", y=\"Feature 2\", c=\"Target\", colormap=\"winter\")"
   ]
  },
  {
   "cell_type": "markdown",
   "metadata": {},
   "source": [
    "### Split Data into Testing and Training"
   ]
  },
  {
   "cell_type": "code",
   "execution_count": 5,
   "metadata": {},
   "outputs": [],
   "source": [
    "# Split dataset into testing and training sets.\n",
    "from sklearn.model_selection import train_test_split\n",
    "X_train, X_test, y_train, y_test = train_test_split(X, y, random_state=78)"
   ]
  },
  {
   "cell_type": "markdown",
   "metadata": {},
   "source": [
    "## Normalize dataset "
   ]
  },
  {
   "cell_type": "code",
   "execution_count": 6,
   "metadata": {},
   "outputs": [],
   "source": [
    "# Create scaler instance\n",
    "X_scaler = skl.preprocessing.StandardScaler()"
   ]
  },
  {
   "cell_type": "code",
   "execution_count": 7,
   "metadata": {},
   "outputs": [
    {
     "data": {
      "text/plain": [
       "StandardScaler()"
      ]
     },
     "execution_count": 7,
     "metadata": {},
     "output_type": "execute_result"
    }
   ],
   "source": [
    "# Fit the scaler\n",
    "X_scaler.fit(X_train)"
   ]
  },
  {
   "cell_type": "code",
   "execution_count": 8,
   "metadata": {},
   "outputs": [],
   "source": [
    "# Scale the data\n",
    "X_train_scaled = X_scaler.transform(X_train)\n",
    "X_test_scaled = X_scaler.transform(X_test)"
   ]
  },
  {
   "cell_type": "markdown",
   "metadata": {},
   "source": [
    "### Create neural network model: Sequential mode"
   ]
  },
  {
   "cell_type": "code",
   "execution_count": 9,
   "metadata": {},
   "outputs": [],
   "source": [
    "# Create the Keras Sequential model\n",
    "nn_model = tf.keras.models.Sequential()"
   ]
  },
  {
   "cell_type": "code",
   "execution_count": 10,
   "metadata": {},
   "outputs": [
    {
     "name": "stdout",
     "output_type": "stream",
     "text": [
      "WARNING:tensorflow:From /opt/anaconda3/envs/mlenv/lib/python3.7/site-packages/tensorflow/python/ops/init_ops.py:1251: calling VarianceScaling.__init__ (from tensorflow.python.ops.init_ops) with dtype is deprecated and will be removed in a future version.\n",
      "Instructions for updating:\n",
      "Call initializer instance with the dtype argument instead of passing it to the constructor\n"
     ]
    }
   ],
   "source": [
    "# Add our first Dense layer, including the input layer\n",
    "nn_model.add(tf.keras.layers.Dense(units=1, activation=\"relu\", input_dim=2))"
   ]
  },
  {
   "cell_type": "code",
   "execution_count": 11,
   "metadata": {},
   "outputs": [],
   "source": [
    "# Add the output layer that uses a probability activation function\n",
    "nn_model.add(tf.keras.layers.Dense(units=1, activation=\"sigmoid\"))"
   ]
  },
  {
   "cell_type": "code",
   "execution_count": 12,
   "metadata": {},
   "outputs": [
    {
     "name": "stdout",
     "output_type": "stream",
     "text": [
      "Model: \"sequential\"\n",
      "_________________________________________________________________\n",
      "Layer (type)                 Output Shape              Param #   \n",
      "=================================================================\n",
      "dense (Dense)                (None, 1)                 3         \n",
      "_________________________________________________________________\n",
      "dense_1 (Dense)              (None, 1)                 2         \n",
      "=================================================================\n",
      "Total params: 5\n",
      "Trainable params: 5\n",
      "Non-trainable params: 0\n",
      "_________________________________________________________________\n"
     ]
    }
   ],
   "source": [
    "# Check the structure of the Sequential model\n",
    "nn_model.summary()"
   ]
  },
  {
   "cell_type": "markdown",
   "metadata": {},
   "source": [
    "### Train the model"
   ]
  },
  {
   "cell_type": "code",
   "execution_count": 13,
   "metadata": {},
   "outputs": [
    {
     "name": "stdout",
     "output_type": "stream",
     "text": [
      "WARNING:tensorflow:From /opt/anaconda3/envs/mlenv/lib/python3.7/site-packages/tensorflow/python/ops/nn_impl.py:180: add_dispatch_support.<locals>.wrapper (from tensorflow.python.ops.array_ops) is deprecated and will be removed in a future version.\n",
      "Instructions for updating:\n",
      "Use tf.where in 2.0, which has the same broadcast rule as np.where\n"
     ]
    }
   ],
   "source": [
    "# Compile the Sequential model together and customize metrics\n",
    "nn_model.compile(loss=\"binary_crossentropy\", optimizer=\"adam\", metrics=[\"accuracy\"])\n"
   ]
  },
  {
   "cell_type": "code",
   "execution_count": 14,
   "metadata": {},
   "outputs": [
    {
     "name": "stdout",
     "output_type": "stream",
     "text": [
      "Epoch 1/100\n",
      "750/750 [==============================] - 0s 290us/sample - loss: 0.6581 - acc: 0.9773\n",
      "Epoch 2/100\n",
      "750/750 [==============================] - 0s 43us/sample - loss: 0.6505 - acc: 1.0000\n",
      "Epoch 3/100\n",
      "750/750 [==============================] - 0s 42us/sample - loss: 0.6419 - acc: 1.0000\n",
      "Epoch 4/100\n",
      "750/750 [==============================] - 0s 42us/sample - loss: 0.6325 - acc: 1.0000\n",
      "Epoch 5/100\n",
      "750/750 [==============================] - 0s 49us/sample - loss: 0.6222 - acc: 1.0000\n",
      "Epoch 6/100\n",
      "750/750 [==============================] - 0s 41us/sample - loss: 0.6113 - acc: 1.0000\n",
      "Epoch 7/100\n",
      "750/750 [==============================] - 0s 41us/sample - loss: 0.5992 - acc: 1.0000\n",
      "Epoch 8/100\n",
      "750/750 [==============================] - 0s 37us/sample - loss: 0.5866 - acc: 1.0000\n",
      "Epoch 9/100\n",
      "750/750 [==============================] - 0s 38us/sample - loss: 0.5734 - acc: 1.0000\n",
      "Epoch 10/100\n",
      "750/750 [==============================] - 0s 53us/sample - loss: 0.5597 - acc: 1.0000\n",
      "Epoch 11/100\n",
      "750/750 [==============================] - 0s 85us/sample - loss: 0.5456 - acc: 1.0000\n",
      "Epoch 12/100\n",
      "750/750 [==============================] - 0s 54us/sample - loss: 0.5312 - acc: 1.0000\n",
      "Epoch 13/100\n",
      "750/750 [==============================] - 0s 40us/sample - loss: 0.5167 - acc: 1.0000\n",
      "Epoch 14/100\n",
      "750/750 [==============================] - 0s 39us/sample - loss: 0.5021 - acc: 1.0000\n",
      "Epoch 15/100\n",
      "750/750 [==============================] - 0s 47us/sample - loss: 0.4875 - acc: 1.0000\n",
      "Epoch 16/100\n",
      "750/750 [==============================] - 0s 37us/sample - loss: 0.4731 - acc: 1.0000\n",
      "Epoch 17/100\n",
      "750/750 [==============================] - 0s 39us/sample - loss: 0.4588 - acc: 1.0000\n",
      "Epoch 18/100\n",
      "750/750 [==============================] - 0s 44us/sample - loss: 0.4448 - acc: 1.0000\n",
      "Epoch 19/100\n",
      "750/750 [==============================] - 0s 46us/sample - loss: 0.4311 - acc: 1.0000\n",
      "Epoch 20/100\n",
      "750/750 [==============================] - 0s 42us/sample - loss: 0.4178 - acc: 1.0000\n",
      "Epoch 21/100\n",
      "750/750 [==============================] - 0s 43us/sample - loss: 0.4050 - acc: 1.0000\n",
      "Epoch 22/100\n",
      "750/750 [==============================] - 0s 38us/sample - loss: 0.3925 - acc: 1.0000\n",
      "Epoch 23/100\n",
      "750/750 [==============================] - 0s 39us/sample - loss: 0.3804 - acc: 1.0000\n",
      "Epoch 24/100\n",
      "750/750 [==============================] - 0s 45us/sample - loss: 0.3688 - acc: 1.0000\n",
      "Epoch 25/100\n",
      "750/750 [==============================] - ETA: 0s - loss: 0.2974 - acc: 1.000 - 0s 41us/sample - loss: 0.3576 - acc: 1.0000\n",
      "Epoch 26/100\n",
      "750/750 [==============================] - 0s 45us/sample - loss: 0.3469 - acc: 1.0000\n",
      "Epoch 27/100\n",
      "750/750 [==============================] - 0s 41us/sample - loss: 0.3365 - acc: 1.0000\n",
      "Epoch 28/100\n",
      "750/750 [==============================] - 0s 43us/sample - loss: 0.3266 - acc: 1.0000\n",
      "Epoch 29/100\n",
      "750/750 [==============================] - 0s 39us/sample - loss: 0.3171 - acc: 1.0000\n",
      "Epoch 30/100\n",
      "750/750 [==============================] - 0s 42us/sample - loss: 0.3079 - acc: 1.0000\n",
      "Epoch 31/100\n",
      "750/750 [==============================] - 0s 37us/sample - loss: 0.2992 - acc: 1.0000\n",
      "Epoch 32/100\n",
      "750/750 [==============================] - 0s 43us/sample - loss: 0.2908 - acc: 1.0000\n",
      "Epoch 33/100\n",
      "750/750 [==============================] - 0s 44us/sample - loss: 0.2827 - acc: 1.0000\n",
      "Epoch 34/100\n",
      "750/750 [==============================] - 0s 38us/sample - loss: 0.2749 - acc: 1.0000\n",
      "Epoch 35/100\n",
      "750/750 [==============================] - 0s 48us/sample - loss: 0.2675 - acc: 1.0000\n",
      "Epoch 36/100\n",
      "750/750 [==============================] - 0s 36us/sample - loss: 0.2604 - acc: 1.0000\n",
      "Epoch 37/100\n",
      "750/750 [==============================] - 0s 42us/sample - loss: 0.2536 - acc: 1.0000\n",
      "Epoch 38/100\n",
      "750/750 [==============================] - 0s 43us/sample - loss: 0.2470 - acc: 1.0000\n",
      "Epoch 39/100\n",
      "750/750 [==============================] - 0s 48us/sample - loss: 0.2407 - acc: 1.0000\n",
      "Epoch 40/100\n",
      "750/750 [==============================] - 0s 42us/sample - loss: 0.2346 - acc: 1.0000\n",
      "Epoch 41/100\n",
      "750/750 [==============================] - 0s 35us/sample - loss: 0.2288 - acc: 1.0000\n",
      "Epoch 42/100\n",
      "750/750 [==============================] - 0s 38us/sample - loss: 0.2232 - acc: 1.0000\n",
      "Epoch 43/100\n",
      "750/750 [==============================] - 0s 35us/sample - loss: 0.2178 - acc: 1.0000\n",
      "Epoch 44/100\n",
      "750/750 [==============================] - 0s 34us/sample - loss: 0.2126 - acc: 1.0000\n",
      "Epoch 45/100\n",
      "750/750 [==============================] - 0s 46us/sample - loss: 0.2076 - acc: 1.0000\n",
      "Epoch 46/100\n",
      "750/750 [==============================] - 0s 44us/sample - loss: 0.2027 - acc: 1.0000\n",
      "Epoch 47/100\n",
      "750/750 [==============================] - 0s 42us/sample - loss: 0.1980 - acc: 1.0000\n",
      "Epoch 48/100\n",
      "750/750 [==============================] - 0s 42us/sample - loss: 0.1935 - acc: 1.0000\n",
      "Epoch 49/100\n",
      "750/750 [==============================] - 0s 45us/sample - loss: 0.1891 - acc: 1.0000\n",
      "Epoch 50/100\n",
      "750/750 [==============================] - 0s 41us/sample - loss: 0.1849 - acc: 1.0000\n",
      "Epoch 51/100\n",
      "750/750 [==============================] - 0s 42us/sample - loss: 0.1808 - acc: 1.0000\n",
      "Epoch 52/100\n",
      "750/750 [==============================] - 0s 36us/sample - loss: 0.1769 - acc: 1.0000\n",
      "Epoch 53/100\n",
      "750/750 [==============================] - 0s 40us/sample - loss: 0.1731 - acc: 1.0000\n",
      "Epoch 54/100\n",
      "750/750 [==============================] - 0s 46us/sample - loss: 0.1694 - acc: 1.0000\n",
      "Epoch 55/100\n",
      "750/750 [==============================] - 0s 48us/sample - loss: 0.1658 - acc: 1.0000\n",
      "Epoch 56/100\n",
      "750/750 [==============================] - 0s 40us/sample - loss: 0.1623 - acc: 1.0000\n",
      "Epoch 57/100\n",
      "750/750 [==============================] - 0s 39us/sample - loss: 0.1590 - acc: 1.0000\n",
      "Epoch 58/100\n",
      "750/750 [==============================] - 0s 41us/sample - loss: 0.1557 - acc: 1.0000\n",
      "Epoch 59/100\n",
      "750/750 [==============================] - ETA: 0s - loss: 0.1792 - acc: 1.000 - 0s 36us/sample - loss: 0.1525 - acc: 1.0000\n",
      "Epoch 60/100\n",
      "750/750 [==============================] - 0s 43us/sample - loss: 0.1495 - acc: 1.0000\n",
      "Epoch 61/100\n",
      "750/750 [==============================] - 0s 40us/sample - loss: 0.1465 - acc: 1.0000\n",
      "Epoch 62/100\n",
      "750/750 [==============================] - 0s 41us/sample - loss: 0.1436 - acc: 1.0000\n",
      "Epoch 63/100\n",
      "750/750 [==============================] - 0s 38us/sample - loss: 0.1408 - acc: 1.0000\n",
      "Epoch 64/100\n",
      "750/750 [==============================] - 0s 40us/sample - loss: 0.1381 - acc: 1.0000\n",
      "Epoch 65/100\n",
      "750/750 [==============================] - 0s 43us/sample - loss: 0.1354 - acc: 1.0000\n",
      "Epoch 66/100\n",
      "750/750 [==============================] - 0s 42us/sample - loss: 0.1328 - acc: 1.0000\n",
      "Epoch 67/100\n",
      "750/750 [==============================] - 0s 37us/sample - loss: 0.1303 - acc: 1.0000\n",
      "Epoch 68/100\n",
      "750/750 [==============================] - 0s 43us/sample - loss: 0.1278 - acc: 1.0000\n",
      "Epoch 69/100\n",
      "750/750 [==============================] - 0s 46us/sample - loss: 0.1254 - acc: 1.0000\n",
      "Epoch 70/100\n",
      "750/750 [==============================] - 0s 38us/sample - loss: 0.1231 - acc: 1.0000\n",
      "Epoch 71/100\n",
      "750/750 [==============================] - 0s 34us/sample - loss: 0.1208 - acc: 1.0000\n",
      "Epoch 72/100\n",
      "750/750 [==============================] - 0s 38us/sample - loss: 0.1186 - acc: 1.0000\n",
      "Epoch 73/100\n",
      "750/750 [==============================] - 0s 40us/sample - loss: 0.1165 - acc: 1.0000\n",
      "Epoch 74/100\n",
      "750/750 [==============================] - 0s 38us/sample - loss: 0.1144 - acc: 1.0000\n",
      "Epoch 75/100\n",
      "750/750 [==============================] - 0s 37us/sample - loss: 0.1123 - acc: 1.0000\n",
      "Epoch 76/100\n",
      "750/750 [==============================] - 0s 39us/sample - loss: 0.1103 - acc: 1.0000\n",
      "Epoch 77/100\n",
      "750/750 [==============================] - 0s 43us/sample - loss: 0.1084 - acc: 1.0000\n",
      "Epoch 78/100\n",
      "750/750 [==============================] - 0s 46us/sample - loss: 0.1065 - acc: 1.0000\n",
      "Epoch 79/100\n",
      "750/750 [==============================] - 0s 45us/sample - loss: 0.1047 - acc: 1.0000\n",
      "Epoch 80/100\n",
      "750/750 [==============================] - 0s 56us/sample - loss: 0.1028 - acc: 1.0000\n",
      "Epoch 81/100\n",
      "750/750 [==============================] - 0s 52us/sample - loss: 0.1011 - acc: 1.0000\n",
      "Epoch 82/100\n",
      "750/750 [==============================] - 0s 51us/sample - loss: 0.0993 - acc: 1.0000\n",
      "Epoch 83/100\n",
      "750/750 [==============================] - 0s 55us/sample - loss: 0.0977 - acc: 1.0000\n",
      "Epoch 84/100\n",
      "750/750 [==============================] - 0s 42us/sample - loss: 0.0960 - acc: 1.0000\n",
      "Epoch 85/100\n",
      "750/750 [==============================] - 0s 41us/sample - loss: 0.0944 - acc: 1.0000\n",
      "Epoch 86/100\n",
      "750/750 [==============================] - 0s 42us/sample - loss: 0.0929 - acc: 1.0000\n",
      "Epoch 87/100\n",
      "750/750 [==============================] - 0s 36us/sample - loss: 0.0913 - acc: 1.0000\n",
      "Epoch 88/100\n",
      "750/750 [==============================] - 0s 37us/sample - loss: 0.0898 - acc: 1.0000\n",
      "Epoch 89/100\n",
      "750/750 [==============================] - 0s 35us/sample - loss: 0.0884 - acc: 1.0000\n",
      "Epoch 90/100\n",
      "750/750 [==============================] - 0s 36us/sample - loss: 0.0869 - acc: 1.0000\n",
      "Epoch 91/100\n",
      "750/750 [==============================] - 0s 36us/sample - loss: 0.0855 - acc: 1.0000\n",
      "Epoch 92/100\n",
      "750/750 [==============================] - 0s 37us/sample - loss: 0.0842 - acc: 1.0000\n",
      "Epoch 93/100\n",
      "750/750 [==============================] - 0s 39us/sample - loss: 0.0828 - acc: 1.0000\n",
      "Epoch 94/100\n",
      "750/750 [==============================] - 0s 42us/sample - loss: 0.0815 - acc: 1.0000\n",
      "Epoch 95/100\n",
      "750/750 [==============================] - 0s 46us/sample - loss: 0.0802 - acc: 1.0000\n",
      "Epoch 96/100\n",
      "750/750 [==============================] - 0s 45us/sample - loss: 0.0789 - acc: 1.0000\n",
      "Epoch 97/100\n",
      "750/750 [==============================] - 0s 51us/sample - loss: 0.0777 - acc: 1.0000\n",
      "Epoch 98/100\n",
      "750/750 [==============================] - 0s 53us/sample - loss: 0.0765 - acc: 1.0000\n",
      "Epoch 99/100\n",
      "750/750 [==============================] - 0s 45us/sample - loss: 0.0753 - acc: 1.0000\n",
      "Epoch 100/100\n",
      "750/750 [==============================] - 0s 43us/sample - loss: 0.0741 - acc: 1.0000\n"
     ]
    }
   ],
   "source": [
    "# Fit the model to the training data\n",
    "fit_model = nn_model.fit(X_train_scaled, y_train, epochs=100)"
   ]
  },
  {
   "cell_type": "markdown",
   "metadata": {},
   "source": [
    "### Visualize model's loss over 100 epochs"
   ]
  },
  {
   "cell_type": "code",
   "execution_count": 15,
   "metadata": {},
   "outputs": [],
   "source": [
    "# Create a DataFrame containing training history\n",
    "history_df = pd.DataFrame(fit_model.history, index=range(1,len(fit_model.history[\"loss\"])+1))"
   ]
  },
  {
   "cell_type": "code",
   "execution_count": 16,
   "metadata": {},
   "outputs": [
    {
     "data": {
      "text/plain": [
       "<matplotlib.axes._subplots.AxesSubplot at 0x1a35136110>"
      ]
     },
     "execution_count": 16,
     "metadata": {},
     "output_type": "execute_result"
    },
    {
     "data": {
      "image/png": "[encoded data removed]",
      "text/plain": [
       "<Figure size 432x288 with 1 Axes>"
      ]
     },
     "metadata": {
      "needs_background": "light"
     },
     "output_type": "display_data"
    }
   ],
   "source": [
    "# Plot the loss\n",
    "history_df.plot(y=\"loss\")"
   ]
  },
  {
   "cell_type": "code",
   "execution_count": 17,
   "metadata": {},
   "outputs": [
    {
     "data": {
      "text/plain": [
       "<matplotlib.axes._subplots.AxesSubplot at 0x1a351bcdd0>"
      ]
     },
     "execution_count": 17,
     "metadata": {},
     "output_type": "execute_result"
    },
    {
     "data": {
      "image/png": "[encoded data removed]",
      "text/plain": [
       "<Figure size 432x288 with 1 Axes>"
      ]
     },
     "metadata": {
      "needs_background": "light"
     },
     "output_type": "display_data"
    }
   ],
   "source": [
    "# Plot the accuracy\n",
    "history_df.plot(y=\"acc\")"
   ]
  },
  {
   "cell_type": "code",
   "execution_count": 18,
   "metadata": {},
   "outputs": [
    {
     "name": "stdout",
     "output_type": "stream",
     "text": [
      "250/250 - 0s - loss: 0.0751 - acc: 1.0000\n",
      "Loss: 0.07506556716561318, Accuracy: 1.0\n"
     ]
    }
   ],
   "source": [
    "# Evaluate the model using the test data\n",
    "model_loss, model_accuracy = nn_model.evaluate(X_test_scaled,y_test,verbose=2)\n",
    "print(f\"Loss: {model_loss}, Accuracy: {model_accuracy}\")"
   ]
  },
  {
   "cell_type": "markdown",
   "metadata": {},
   "source": [
    "### Predict new dataset "
   ]
  },
  {
   "cell_type": "code",
   "execution_count": 19,
   "metadata": {},
   "outputs": [
    {
     "data": {
      "text/plain": [
       "array([[0],\n",
       "       [1],\n",
       "       [0],\n",
       "       [1],\n",
       "       [0],\n",
       "       [0],\n",
       "       [1],\n",
       "       [1],\n",
       "       [1],\n",
       "       [0]], dtype=int32)"
      ]
     },
     "execution_count": 19,
     "metadata": {},
     "output_type": "execute_result"
    }
   ],
   "source": [
    "# Predict the classification of a new set of blob data\n",
    "new_X, new_Y = make_blobs(n_samples=10, centers=2, n_features=2, random_state=78)\n",
    "\n",
    "new_X_scaled = X_scaler.transform(new_X)\n",
    "\n",
    "nn_model.predict_classes(new_X_scaled)"
   ]
  },
  {
   "cell_type": "markdown",
   "metadata": {},
   "source": [
    "### Training models on non-linear data "
   ]
  },
  {
   "cell_type": "code",
   "execution_count": 20,
   "metadata": {},
   "outputs": [],
   "source": [
    "from sklearn.datasets import make_moons"
   ]
  },
  {
   "cell_type": "code",
   "execution_count": 21,
   "metadata": {},
   "outputs": [],
   "source": [
    "# Creating dummy nonlinear data\n",
    "X_moons, y_moons = make_moons(n_samples=1000, noise=0.08, random_state=78)"
   ]
  },
  {
   "cell_type": "code",
   "execution_count": 22,
   "metadata": {},
   "outputs": [],
   "source": [
    "# Transforming y_moons to a vertical vector\n",
    "y_moons = y_moons.reshape(-1, 1)"
   ]
  },
  {
   "cell_type": "code",
   "execution_count": 23,
   "metadata": {},
   "outputs": [],
   "source": [
    "# Creating a DataFrame to plot the nonlinear dummy data\n",
    "df_moons = pd.DataFrame(X_moons, columns=[\"Feature 1\", \"Feature 2\"])\n",
    "df_moons[\"Target\"] = y_moons"
   ]
  },
  {
   "cell_type": "code",
   "execution_count": 24,
   "metadata": {},
   "outputs": [
    {
     "data": {
      "text/plain": [
       "<matplotlib.axes._subplots.AxesSubplot at 0x1a35347990>"
      ]
     },
     "execution_count": 24,
     "metadata": {},
     "output_type": "execute_result"
    },
    {
     "data": {
      "image/png": "[encoded data removed]",
      "text/plain": [
       "<Figure size 432x288 with 2 Axes>"
      ]
     },
     "metadata": {
      "needs_background": "light"
     },
     "output_type": "display_data"
    }
   ],
   "source": [
    "# Plot the nonlinear dummy data\n",
    "df_moons.plot.scatter(x=\"Feature 1\",y=\"Feature 2\", c=\"Target\",colormap=\"winter\")"
   ]
  },
  {
   "cell_type": "code",
   "execution_count": 25,
   "metadata": {},
   "outputs": [],
   "source": [
    "# Create training and testing sets\n",
    "X_moon_train, X_moon_test, y_moon_train, y_moon_test = train_test_split(\n",
    "    X_moons, y_moons, random_state=78\n",
    ")"
   ]
  },
  {
   "cell_type": "code",
   "execution_count": 26,
   "metadata": {},
   "outputs": [],
   "source": [
    "# Create the scaler instance\n",
    "X_moon_scaler = skl.preprocessing.StandardScaler()"
   ]
  },
  {
   "cell_type": "code",
   "execution_count": 27,
   "metadata": {},
   "outputs": [
    {
     "data": {
      "text/plain": [
       "StandardScaler()"
      ]
     },
     "execution_count": 27,
     "metadata": {},
     "output_type": "execute_result"
    }
   ],
   "source": [
    "# Fit the scaler\n",
    "X_moon_scaler.fit(X_moon_train)"
   ]
  },
  {
   "cell_type": "code",
   "execution_count": 28,
   "metadata": {},
   "outputs": [],
   "source": [
    "# Scale the data\n",
    "X_moon_train_scaled = X_moon_scaler.transform(X_moon_train)\n",
    "X_moon_test_scaled = X_moon_scaler.transform(X_moon_test)"
   ]
  },
  {
   "cell_type": "code",
   "execution_count": 29,
   "metadata": {},
   "outputs": [
    {
     "name": "stdout",
     "output_type": "stream",
     "text": [
      "Epoch 1/100\n",
      "750/750 [==============================] - 0s 41us/sample - loss: 1.0495 - acc: 0.4760\n",
      "Epoch 2/100\n",
      "750/750 [==============================] - 0s 47us/sample - loss: 0.9383 - acc: 0.5067\n",
      "Epoch 3/100\n",
      "750/750 [==============================] - 0s 38us/sample - loss: 0.8634 - acc: 0.5187\n",
      "Epoch 4/100\n",
      "750/750 [==============================] - 0s 37us/sample - loss: 0.8085 - acc: 0.5307\n",
      "Epoch 5/100\n",
      "750/750 [==============================] - 0s 39us/sample - loss: 0.7666 - acc: 0.5360\n",
      "Epoch 6/100\n",
      "750/750 [==============================] - 0s 40us/sample - loss: 0.7327 - acc: 0.5493\n",
      "Epoch 7/100\n",
      "750/750 [==============================] - 0s 42us/sample - loss: 0.7039 - acc: 0.5600\n",
      "Epoch 8/100\n",
      "750/750 [==============================] - 0s 45us/sample - loss: 0.6792 - acc: 0.5733\n",
      "Epoch 9/100\n",
      "750/750 [==============================] - 0s 38us/sample - loss: 0.6568 - acc: 0.5800\n",
      "Epoch 10/100\n",
      "750/750 [==============================] - 0s 37us/sample - loss: 0.6371 - acc: 0.5933\n",
      "Epoch 11/100\n",
      "750/750 [==============================] - 0s 41us/sample - loss: 0.6196 - acc: 0.6053\n",
      "Epoch 12/100\n",
      "750/750 [==============================] - 0s 40us/sample - loss: 0.6033 - acc: 0.6173\n",
      "Epoch 13/100\n",
      "750/750 [==============================] - 0s 41us/sample - loss: 0.5886 - acc: 0.6280\n",
      "Epoch 14/100\n",
      "750/750 [==============================] - 0s 45us/sample - loss: 0.5748 - acc: 0.6373\n",
      "Epoch 15/100\n",
      "750/750 [==============================] - 0s 42us/sample - loss: 0.5623 - acc: 0.6413\n",
      "Epoch 16/100\n",
      "750/750 [==============================] - 0s 43us/sample - loss: 0.5505 - acc: 0.6453\n",
      "Epoch 17/100\n",
      "750/750 [==============================] - 0s 43us/sample - loss: 0.5395 - acc: 0.6533\n",
      "Epoch 18/100\n",
      "750/750 [==============================] - 0s 37us/sample - loss: 0.5294 - acc: 0.6613\n",
      "Epoch 19/100\n",
      "750/750 [==============================] - 0s 43us/sample - loss: 0.5194 - acc: 0.6680\n",
      "Epoch 20/100\n",
      "750/750 [==============================] - 0s 38us/sample - loss: 0.5103 - acc: 0.6773\n",
      "Epoch 21/100\n",
      "750/750 [==============================] - 0s 40us/sample - loss: 0.5017 - acc: 0.6853\n",
      "Epoch 22/100\n",
      "750/750 [==============================] - 0s 43us/sample - loss: 0.4932 - acc: 0.6907\n",
      "Epoch 23/100\n",
      "750/750 [==============================] - 0s 42us/sample - loss: 0.4854 - acc: 0.7013\n",
      "Epoch 24/100\n",
      "750/750 [==============================] - 0s 38us/sample - loss: 0.4777 - acc: 0.7040\n",
      "Epoch 25/100\n",
      "750/750 [==============================] - 0s 44us/sample - loss: 0.4703 - acc: 0.7093\n",
      "Epoch 26/100\n",
      "750/750 [==============================] - 0s 38us/sample - loss: 0.4633 - acc: 0.7133\n",
      "Epoch 27/100\n",
      "750/750 [==============================] - 0s 38us/sample - loss: 0.4564 - acc: 0.7227\n",
      "Epoch 28/100\n",
      "750/750 [==============================] - 0s 44us/sample - loss: 0.4497 - acc: 0.7280\n",
      "Epoch 29/100\n",
      "750/750 [==============================] - 0s 40us/sample - loss: 0.4433 - acc: 0.7320\n",
      "Epoch 30/100\n",
      "750/750 [==============================] - 0s 42us/sample - loss: 0.4369 - acc: 0.7373\n",
      "Epoch 31/100\n",
      "750/750 [==============================] - 0s 39us/sample - loss: 0.4307 - acc: 0.7467\n",
      "Epoch 32/100\n",
      "750/750 [==============================] - 0s 106us/sample - loss: 0.4248 - acc: 0.7520\n",
      "Epoch 33/100\n",
      "750/750 [==============================] - 0s 57us/sample - loss: 0.4189 - acc: 0.7573\n",
      "Epoch 34/100\n",
      "750/750 [==============================] - 0s 42us/sample - loss: 0.4132 - acc: 0.7640\n",
      "Epoch 35/100\n",
      "750/750 [==============================] - 0s 34us/sample - loss: 0.4076 - acc: 0.7693\n",
      "Epoch 36/100\n",
      "750/750 [==============================] - 0s 33us/sample - loss: 0.4024 - acc: 0.7720\n",
      "Epoch 37/100\n",
      "750/750 [==============================] - 0s 46us/sample - loss: 0.3969 - acc: 0.7787\n",
      "Epoch 38/100\n",
      "750/750 [==============================] - 0s 44us/sample - loss: 0.3917 - acc: 0.7853\n",
      "Epoch 39/100\n",
      "750/750 [==============================] - 0s 39us/sample - loss: 0.3868 - acc: 0.7867\n",
      "Epoch 40/100\n",
      "750/750 [==============================] - 0s 47us/sample - loss: 0.3820 - acc: 0.7920\n",
      "Epoch 41/100\n",
      "750/750 [==============================] - 0s 43us/sample - loss: 0.3775 - acc: 0.8040\n",
      "Epoch 42/100\n",
      "750/750 [==============================] - 0s 42us/sample - loss: 0.3732 - acc: 0.8053\n",
      "Epoch 43/100\n",
      "750/750 [==============================] - 0s 47us/sample - loss: 0.3688 - acc: 0.8067\n",
      "Epoch 44/100\n",
      "750/750 [==============================] - 0s 48us/sample - loss: 0.3649 - acc: 0.8093\n",
      "Epoch 45/100\n",
      "750/750 [==============================] - 0s 45us/sample - loss: 0.3608 - acc: 0.8107\n",
      "Epoch 46/100\n",
      "750/750 [==============================] - 0s 46us/sample - loss: 0.3569 - acc: 0.8147\n",
      "Epoch 47/100\n",
      "750/750 [==============================] - 0s 42us/sample - loss: 0.3532 - acc: 0.8187\n",
      "Epoch 48/100\n",
      "750/750 [==============================] - 0s 42us/sample - loss: 0.3496 - acc: 0.8213\n",
      "Epoch 49/100\n",
      "750/750 [==============================] - 0s 42us/sample - loss: 0.3462 - acc: 0.8240\n",
      "Epoch 50/100\n",
      "750/750 [==============================] - 0s 41us/sample - loss: 0.3429 - acc: 0.8253\n",
      "Epoch 51/100\n",
      "750/750 [==============================] - 0s 41us/sample - loss: 0.3397 - acc: 0.8267\n",
      "Epoch 52/100\n",
      "750/750 [==============================] - 0s 42us/sample - loss: 0.3366 - acc: 0.8267\n",
      "Epoch 53/100\n",
      "750/750 [==============================] - 0s 41us/sample - loss: 0.3336 - acc: 0.8267\n",
      "Epoch 54/100\n",
      "750/750 [==============================] - 0s 41us/sample - loss: 0.3308 - acc: 0.8267\n",
      "Epoch 55/100\n",
      "750/750 [==============================] - 0s 44us/sample - loss: 0.3280 - acc: 0.8307\n",
      "Epoch 56/100\n",
      "750/750 [==============================] - 0s 41us/sample - loss: 0.3254 - acc: 0.8320\n",
      "Epoch 57/100\n",
      "750/750 [==============================] - 0s 42us/sample - loss: 0.3228 - acc: 0.8320\n",
      "Epoch 58/100\n",
      "750/750 [==============================] - 0s 43us/sample - loss: 0.3203 - acc: 0.8333\n",
      "Epoch 59/100\n",
      "750/750 [==============================] - 0s 49us/sample - loss: 0.3180 - acc: 0.8373\n",
      "Epoch 60/100\n",
      "750/750 [==============================] - 0s 38us/sample - loss: 0.3157 - acc: 0.8387\n",
      "Epoch 61/100\n",
      "750/750 [==============================] - 0s 42us/sample - loss: 0.3134 - acc: 0.8427\n",
      "Epoch 62/100\n",
      "750/750 [==============================] - 0s 41us/sample - loss: 0.3112 - acc: 0.8440\n",
      "Epoch 63/100\n",
      "750/750 [==============================] - 0s 39us/sample - loss: 0.3091 - acc: 0.8480\n",
      "Epoch 64/100\n",
      "750/750 [==============================] - 0s 37us/sample - loss: 0.3070 - acc: 0.8493\n",
      "Epoch 65/100\n",
      "750/750 [==============================] - 0s 36us/sample - loss: 0.3051 - acc: 0.8507\n",
      "Epoch 66/100\n",
      "750/750 [==============================] - 0s 45us/sample - loss: 0.3032 - acc: 0.8520\n",
      "Epoch 67/100\n",
      "750/750 [==============================] - 0s 42us/sample - loss: 0.3013 - acc: 0.8547\n",
      "Epoch 68/100\n",
      "750/750 [==============================] - 0s 42us/sample - loss: 0.2996 - acc: 0.8613\n",
      "Epoch 69/100\n",
      "750/750 [==============================] - 0s 42us/sample - loss: 0.2979 - acc: 0.8640\n",
      "Epoch 70/100\n",
      "750/750 [==============================] - 0s 46us/sample - loss: 0.2962 - acc: 0.8640\n",
      "Epoch 71/100\n",
      "750/750 [==============================] - 0s 45us/sample - loss: 0.2948 - acc: 0.8640\n",
      "Epoch 72/100\n",
      "750/750 [==============================] - 0s 45us/sample - loss: 0.2932 - acc: 0.8653\n",
      "Epoch 73/100\n",
      "750/750 [==============================] - 0s 53us/sample - loss: 0.2918 - acc: 0.8667\n",
      "Epoch 74/100\n",
      "750/750 [==============================] - 0s 43us/sample - loss: 0.2904 - acc: 0.8667\n",
      "Epoch 75/100\n",
      "750/750 [==============================] - 0s 44us/sample - loss: 0.2890 - acc: 0.8680\n",
      "Epoch 76/100\n",
      "750/750 [==============================] - 0s 39us/sample - loss: 0.2877 - acc: 0.8680\n",
      "Epoch 77/100\n",
      "750/750 [==============================] - 0s 42us/sample - loss: 0.2865 - acc: 0.8680\n",
      "Epoch 78/100\n",
      "750/750 [==============================] - 0s 42us/sample - loss: 0.2853 - acc: 0.8680\n",
      "Epoch 79/100\n",
      "750/750 [==============================] - 0s 43us/sample - loss: 0.2842 - acc: 0.8680\n",
      "Epoch 80/100\n",
      "750/750 [==============================] - 0s 46us/sample - loss: 0.2831 - acc: 0.8707\n",
      "Epoch 81/100\n",
      "750/750 [==============================] - 0s 47us/sample - loss: 0.2820 - acc: 0.8733\n",
      "Epoch 82/100\n",
      "750/750 [==============================] - 0s 42us/sample - loss: 0.2810 - acc: 0.8733\n",
      "Epoch 83/100\n"
     ]
    },
    {
     "name": "stdout",
     "output_type": "stream",
     "text": [
      "750/750 [==============================] - 0s 42us/sample - loss: 0.2799 - acc: 0.8747\n",
      "Epoch 84/100\n",
      "750/750 [==============================] - 0s 48us/sample - loss: 0.2790 - acc: 0.8760\n",
      "Epoch 85/100\n",
      "750/750 [==============================] - 0s 41us/sample - loss: 0.2780 - acc: 0.8773\n",
      "Epoch 86/100\n",
      "750/750 [==============================] - 0s 41us/sample - loss: 0.2772 - acc: 0.8787\n",
      "Epoch 87/100\n",
      "750/750 [==============================] - 0s 40us/sample - loss: 0.2763 - acc: 0.8787\n",
      "Epoch 88/100\n",
      "750/750 [==============================] - 0s 48us/sample - loss: 0.2754 - acc: 0.8787\n",
      "Epoch 89/100\n",
      "750/750 [==============================] - 0s 37us/sample - loss: 0.2746 - acc: 0.8800\n",
      "Epoch 90/100\n",
      "750/750 [==============================] - 0s 43us/sample - loss: 0.2737 - acc: 0.8800\n",
      "Epoch 91/100\n",
      "750/750 [==============================] - 0s 39us/sample - loss: 0.2730 - acc: 0.8813\n",
      "Epoch 92/100\n",
      "750/750 [==============================] - 0s 38us/sample - loss: 0.2722 - acc: 0.8813\n",
      "Epoch 93/100\n",
      "750/750 [==============================] - 0s 37us/sample - loss: 0.2715 - acc: 0.8840\n",
      "Epoch 94/100\n",
      "750/750 [==============================] - 0s 44us/sample - loss: 0.2708 - acc: 0.8840\n",
      "Epoch 95/100\n",
      "750/750 [==============================] - 0s 43us/sample - loss: 0.2702 - acc: 0.8840\n",
      "Epoch 96/100\n",
      "750/750 [==============================] - 0s 43us/sample - loss: 0.2696 - acc: 0.8840\n",
      "Epoch 97/100\n",
      "750/750 [==============================] - 0s 43us/sample - loss: 0.2689 - acc: 0.8840\n",
      "Epoch 98/100\n",
      "750/750 [==============================] - 0s 44us/sample - loss: 0.2683 - acc: 0.8840\n",
      "Epoch 99/100\n",
      "750/750 [==============================] - 0s 43us/sample - loss: 0.2677 - acc: 0.8840\n",
      "Epoch 100/100\n",
      "750/750 [==============================] - 0s 37us/sample - loss: 0.2672 - acc: 0.8840\n"
     ]
    }
   ],
   "source": [
    "# Training the model with the nonlinear data\n",
    "model_moon = nn_model.fit(X_moon_train_scaled, y_moon_train, epochs=100, shuffle=True)"
   ]
  },
  {
   "cell_type": "code",
   "execution_count": 30,
   "metadata": {},
   "outputs": [],
   "source": [
    "# Create a DataFrame containing training history\n",
    "history_df = pd.DataFrame(model_moon.history, index=range(1,len(model_moon.history[\"loss\"])+1))\n"
   ]
  },
  {
   "cell_type": "code",
   "execution_count": 31,
   "metadata": {},
   "outputs": [
    {
     "data": {
      "text/plain": [
       "<matplotlib.axes._subplots.AxesSubplot at 0x1a3542a210>"
      ]
     },
     "execution_count": 31,
     "metadata": {},
     "output_type": "execute_result"
    },
    {
     "data": {
      "image/png": "[encoded data removed]",
      "text/plain": [
       "<Figure size 432x288 with 1 Axes>"
      ]
     },
     "metadata": {
      "needs_background": "light"
     },
     "output_type": "display_data"
    }
   ],
   "source": [
    "# Plot the loss\n",
    "history_df.plot(y=\"loss\")"
   ]
  },
  {
   "cell_type": "code",
   "execution_count": 32,
   "metadata": {},
   "outputs": [
    {
     "data": {
      "text/plain": [
       "<matplotlib.axes._subplots.AxesSubplot at 0x1a3556ffd0>"
      ]
     },
     "execution_count": 32,
     "metadata": {},
     "output_type": "execute_result"
    },
    {
     "data": {
      "image/png": "[encoded data removed]",
      "text/plain": [
       "<Figure size 432x288 with 1 Axes>"
      ]
     },
     "metadata": {
      "needs_background": "light"
     },
     "output_type": "display_data"
    }
   ],
   "source": [
    "# Plot the loss\n",
    "history_df.plot(y=\"acc\")"
   ]
  },
  {
   "cell_type": "markdown",
   "metadata": {},
   "source": [
    "### 19.2.5 Multiple-Neuron Neural Network - Sequential Model"
   ]
  },
  {
   "cell_type": "markdown",
   "metadata": {},
   "source": [
    "### 1. Change the structure of the old Sequential neural network model"
   ]
  },
  {
   "cell_type": "code",
   "execution_count": 33,
   "metadata": {},
   "outputs": [],
   "source": [
    "# Generate our new Sequential model\n",
    "new_model = tf.keras.models.Sequential()"
   ]
  },
  {
   "cell_type": "markdown",
   "metadata": {},
   "source": [
    "### 2. Use Dense class to add input, hidden, and output layers"
   ]
  },
  {
   "cell_type": "code",
   "execution_count": 34,
   "metadata": {},
   "outputs": [],
   "source": [
    "# Add the input and hidden layer\n",
    "number_inputs = 2\n",
    "number_hidden_nodes = 6\n",
    "\n",
    "new_model.add(tf.keras.layers.Dense(units=number_hidden_nodes, activation=\"relu\", input_dim=number_inputs))"
   ]
  },
  {
   "cell_type": "code",
   "execution_count": 35,
   "metadata": {},
   "outputs": [],
   "source": [
    "# Add the output layer that uses a probability activation function\n",
    "new_model.add(tf.keras.layers.Dense(units=1, activation=\"sigmoid\"))"
   ]
  },
  {
   "cell_type": "markdown",
   "metadata": {},
   "source": [
    "### 3. Compile and train model"
   ]
  },
  {
   "cell_type": "code",
   "execution_count": 36,
   "metadata": {},
   "outputs": [],
   "source": [
    "# Compile the Sequential model together and customize metrics\n",
    "new_model.compile(loss=\"binary_crossentropy\", optimizer=\"adam\", metrics=[\"accuracy\"])"
   ]
  },
  {
   "cell_type": "code",
   "execution_count": 37,
   "metadata": {},
   "outputs": [
    {
     "name": "stdout",
     "output_type": "stream",
     "text": [
      "Epoch 1/100\n",
      "750/750 [==============================] - 0s 152us/sample - loss: 0.7753 - acc: 0.3560\n",
      "Epoch 2/100\n",
      "750/750 [==============================] - 0s 38us/sample - loss: 0.7205 - acc: 0.4453\n",
      "Epoch 3/100\n",
      "750/750 [==============================] - 0s 42us/sample - loss: 0.6713 - acc: 0.5387\n",
      "Epoch 4/100\n",
      "750/750 [==============================] - 0s 49us/sample - loss: 0.6282 - acc: 0.6213\n",
      "Epoch 5/100\n",
      "750/750 [==============================] - 0s 44us/sample - loss: 0.5901 - acc: 0.7067\n",
      "Epoch 6/100\n",
      "750/750 [==============================] - 0s 44us/sample - loss: 0.5557 - acc: 0.7880\n",
      "Epoch 7/100\n",
      "750/750 [==============================] - 0s 38us/sample - loss: 0.5248 - acc: 0.8120\n",
      "Epoch 8/100\n",
      "750/750 [==============================] - 0s 47us/sample - loss: 0.4977 - acc: 0.8213\n",
      "Epoch 9/100\n",
      "750/750 [==============================] - 0s 54us/sample - loss: 0.4724 - acc: 0.8227\n",
      "Epoch 10/100\n",
      "750/750 [==============================] - 0s 48us/sample - loss: 0.4505 - acc: 0.8267\n",
      "Epoch 11/100\n",
      "750/750 [==============================] - 0s 57us/sample - loss: 0.4307 - acc: 0.8293\n",
      "Epoch 12/100\n",
      "750/750 [==============================] - 0s 44us/sample - loss: 0.4130 - acc: 0.8333\n",
      "Epoch 13/100\n",
      "750/750 [==============================] - 0s 45us/sample - loss: 0.3978 - acc: 0.8360\n",
      "Epoch 14/100\n",
      "750/750 [==============================] - 0s 47us/sample - loss: 0.3836 - acc: 0.8387\n",
      "Epoch 15/100\n",
      "750/750 [==============================] - 0s 43us/sample - loss: 0.3717 - acc: 0.8467\n",
      "Epoch 16/100\n",
      "750/750 [==============================] - 0s 38us/sample - loss: 0.3609 - acc: 0.8507\n",
      "Epoch 17/100\n",
      "750/750 [==============================] - 0s 37us/sample - loss: 0.3512 - acc: 0.8507\n",
      "Epoch 18/100\n",
      "750/750 [==============================] - 0s 38us/sample - loss: 0.3426 - acc: 0.8533\n",
      "Epoch 19/100\n",
      "750/750 [==============================] - 0s 87us/sample - loss: 0.3347 - acc: 0.8613\n",
      "Epoch 20/100\n",
      "750/750 [==============================] - 0s 74us/sample - loss: 0.3279 - acc: 0.8640\n",
      "Epoch 21/100\n",
      "750/750 [==============================] - 0s 39us/sample - loss: 0.3215 - acc: 0.8667\n",
      "Epoch 22/100\n",
      "750/750 [==============================] - 0s 34us/sample - loss: 0.3158 - acc: 0.8680\n",
      "Epoch 23/100\n",
      "750/750 [==============================] - 0s 43us/sample - loss: 0.3105 - acc: 0.8733\n",
      "Epoch 24/100\n",
      "750/750 [==============================] - 0s 48us/sample - loss: 0.3057 - acc: 0.8733\n",
      "Epoch 25/100\n",
      "750/750 [==============================] - 0s 40us/sample - loss: 0.3012 - acc: 0.8760\n",
      "Epoch 26/100\n",
      "750/750 [==============================] - 0s 41us/sample - loss: 0.2971 - acc: 0.8760\n",
      "Epoch 27/100\n",
      "750/750 [==============================] - 0s 40us/sample - loss: 0.2932 - acc: 0.8800\n",
      "Epoch 28/100\n",
      "750/750 [==============================] - 0s 42us/sample - loss: 0.2897 - acc: 0.8840\n",
      "Epoch 29/100\n",
      "750/750 [==============================] - 0s 40us/sample - loss: 0.2862 - acc: 0.8840\n",
      "Epoch 30/100\n",
      "750/750 [==============================] - 0s 41us/sample - loss: 0.2830 - acc: 0.8840\n",
      "Epoch 31/100\n",
      "750/750 [==============================] - 0s 39us/sample - loss: 0.2799 - acc: 0.8867\n",
      "Epoch 32/100\n",
      "750/750 [==============================] - 0s 37us/sample - loss: 0.2770 - acc: 0.8880\n",
      "Epoch 33/100\n",
      "750/750 [==============================] - 0s 40us/sample - loss: 0.2743 - acc: 0.8893\n",
      "Epoch 34/100\n",
      "750/750 [==============================] - 0s 40us/sample - loss: 0.2717 - acc: 0.8893\n",
      "Epoch 35/100\n",
      "750/750 [==============================] - 0s 38us/sample - loss: 0.2693 - acc: 0.8907\n",
      "Epoch 36/100\n",
      "750/750 [==============================] - 0s 47us/sample - loss: 0.2669 - acc: 0.8893\n",
      "Epoch 37/100\n",
      "750/750 [==============================] - 0s 41us/sample - loss: 0.2648 - acc: 0.8893\n",
      "Epoch 38/100\n",
      "750/750 [==============================] - 0s 43us/sample - loss: 0.2627 - acc: 0.8893\n",
      "Epoch 39/100\n",
      "750/750 [==============================] - 0s 45us/sample - loss: 0.2608 - acc: 0.8893\n",
      "Epoch 40/100\n",
      "750/750 [==============================] - 0s 38us/sample - loss: 0.2588 - acc: 0.8893\n",
      "Epoch 41/100\n",
      "750/750 [==============================] - 0s 45us/sample - loss: 0.2571 - acc: 0.8907\n",
      "Epoch 42/100\n",
      "750/750 [==============================] - 0s 39us/sample - loss: 0.2554 - acc: 0.8907\n",
      "Epoch 43/100\n",
      "750/750 [==============================] - 0s 43us/sample - loss: 0.2538 - acc: 0.8907\n",
      "Epoch 44/100\n",
      "750/750 [==============================] - 0s 40us/sample - loss: 0.2522 - acc: 0.8907\n",
      "Epoch 45/100\n",
      "750/750 [==============================] - 0s 40us/sample - loss: 0.2506 - acc: 0.8920\n",
      "Epoch 46/100\n",
      "750/750 [==============================] - 0s 40us/sample - loss: 0.2493 - acc: 0.8920\n",
      "Epoch 47/100\n",
      "750/750 [==============================] - 0s 40us/sample - loss: 0.2479 - acc: 0.8933\n",
      "Epoch 48/100\n",
      "750/750 [==============================] - 0s 43us/sample - loss: 0.2465 - acc: 0.8920\n",
      "Epoch 49/100\n",
      "750/750 [==============================] - 0s 36us/sample - loss: 0.2452 - acc: 0.8920\n",
      "Epoch 50/100\n",
      "750/750 [==============================] - 0s 37us/sample - loss: 0.2441 - acc: 0.8920\n",
      "Epoch 51/100\n",
      "750/750 [==============================] - 0s 38us/sample - loss: 0.2429 - acc: 0.8920\n",
      "Epoch 52/100\n",
      "750/750 [==============================] - 0s 42us/sample - loss: 0.2418 - acc: 0.8920\n",
      "Epoch 53/100\n",
      "750/750 [==============================] - 0s 43us/sample - loss: 0.2409 - acc: 0.8920\n",
      "Epoch 54/100\n",
      "750/750 [==============================] - 0s 44us/sample - loss: 0.2400 - acc: 0.8920\n",
      "Epoch 55/100\n",
      "750/750 [==============================] - 0s 48us/sample - loss: 0.2392 - acc: 0.8920\n",
      "Epoch 56/100\n",
      "750/750 [==============================] - 0s 44us/sample - loss: 0.2383 - acc: 0.8933\n",
      "Epoch 57/100\n",
      "750/750 [==============================] - 0s 38us/sample - loss: 0.2376 - acc: 0.8933\n",
      "Epoch 58/100\n",
      "750/750 [==============================] - 0s 42us/sample - loss: 0.2367 - acc: 0.8933\n",
      "Epoch 59/100\n",
      "750/750 [==============================] - 0s 44us/sample - loss: 0.2360 - acc: 0.8933\n",
      "Epoch 60/100\n",
      "750/750 [==============================] - 0s 46us/sample - loss: 0.2353 - acc: 0.8933\n",
      "Epoch 61/100\n",
      "750/750 [==============================] - 0s 47us/sample - loss: 0.2347 - acc: 0.8933\n",
      "Epoch 62/100\n",
      "750/750 [==============================] - 0s 43us/sample - loss: 0.2340 - acc: 0.8947\n",
      "Epoch 63/100\n",
      "750/750 [==============================] - 0s 45us/sample - loss: 0.2334 - acc: 0.8947\n",
      "Epoch 64/100\n",
      "750/750 [==============================] - 0s 46us/sample - loss: 0.2328 - acc: 0.8947\n",
      "Epoch 65/100\n",
      "750/750 [==============================] - 0s 50us/sample - loss: 0.2322 - acc: 0.8960\n",
      "Epoch 66/100\n",
      "750/750 [==============================] - 0s 49us/sample - loss: 0.2316 - acc: 0.8960\n",
      "Epoch 67/100\n",
      "750/750 [==============================] - 0s 49us/sample - loss: 0.2311 - acc: 0.8960\n",
      "Epoch 68/100\n",
      "750/750 [==============================] - 0s 47us/sample - loss: 0.2306 - acc: 0.8973\n",
      "Epoch 69/100\n",
      "750/750 [==============================] - 0s 43us/sample - loss: 0.2301 - acc: 0.8973\n",
      "Epoch 70/100\n",
      "750/750 [==============================] - 0s 49us/sample - loss: 0.2297 - acc: 0.8973\n",
      "Epoch 71/100\n",
      "750/750 [==============================] - 0s 47us/sample - loss: 0.2292 - acc: 0.8987\n",
      "Epoch 72/100\n",
      "750/750 [==============================] - 0s 42us/sample - loss: 0.2288 - acc: 0.8987\n",
      "Epoch 73/100\n",
      "750/750 [==============================] - 0s 45us/sample - loss: 0.2284 - acc: 0.8987\n",
      "Epoch 74/100\n",
      "750/750 [==============================] - 0s 43us/sample - loss: 0.2279 - acc: 0.8987\n",
      "Epoch 75/100\n",
      "750/750 [==============================] - 0s 46us/sample - loss: 0.2276 - acc: 0.8987\n",
      "Epoch 76/100\n",
      "750/750 [==============================] - 0s 42us/sample - loss: 0.2273 - acc: 0.8987\n",
      "Epoch 77/100\n",
      "750/750 [==============================] - 0s 47us/sample - loss: 0.2269 - acc: 0.8987\n",
      "Epoch 78/100\n",
      "750/750 [==============================] - 0s 54us/sample - loss: 0.2267 - acc: 0.8987\n",
      "Epoch 79/100\n",
      "750/750 [==============================] - 0s 47us/sample - loss: 0.2263 - acc: 0.9013\n",
      "Epoch 80/100\n",
      "750/750 [==============================] - 0s 54us/sample - loss: 0.2261 - acc: 0.9013\n",
      "Epoch 81/100\n",
      "750/750 [==============================] - 0s 65us/sample - loss: 0.2257 - acc: 0.9013\n",
      "Epoch 82/100\n",
      "750/750 [==============================] - 0s 60us/sample - loss: 0.2254 - acc: 0.9013\n",
      "Epoch 83/100\n"
     ]
    },
    {
     "name": "stdout",
     "output_type": "stream",
     "text": [
      "750/750 [==============================] - 0s 55us/sample - loss: 0.2251 - acc: 0.9013\n",
      "Epoch 84/100\n",
      "750/750 [==============================] - 0s 62us/sample - loss: 0.2248 - acc: 0.9013\n",
      "Epoch 85/100\n",
      "750/750 [==============================] - 0s 52us/sample - loss: 0.2246 - acc: 0.9000\n",
      "Epoch 86/100\n",
      "750/750 [==============================] - 0s 45us/sample - loss: 0.2244 - acc: 0.9000\n",
      "Epoch 87/100\n",
      "750/750 [==============================] - 0s 40us/sample - loss: 0.2242 - acc: 0.9000\n",
      "Epoch 88/100\n",
      "750/750 [==============================] - 0s 45us/sample - loss: 0.2239 - acc: 0.9000\n",
      "Epoch 89/100\n",
      "750/750 [==============================] - 0s 40us/sample - loss: 0.2237 - acc: 0.9000\n",
      "Epoch 90/100\n",
      "750/750 [==============================] - 0s 45us/sample - loss: 0.2234 - acc: 0.9000\n",
      "Epoch 91/100\n",
      "750/750 [==============================] - 0s 40us/sample - loss: 0.2231 - acc: 0.8987\n",
      "Epoch 92/100\n",
      "750/750 [==============================] - 0s 41us/sample - loss: 0.2229 - acc: 0.9013\n",
      "Epoch 93/100\n",
      "750/750 [==============================] - 0s 44us/sample - loss: 0.2226 - acc: 0.9013\n",
      "Epoch 94/100\n",
      "750/750 [==============================] - 0s 40us/sample - loss: 0.2225 - acc: 0.9013\n",
      "Epoch 95/100\n",
      "750/750 [==============================] - 0s 40us/sample - loss: 0.2221 - acc: 0.9013\n",
      "Epoch 96/100\n",
      "750/750 [==============================] - 0s 39us/sample - loss: 0.2220 - acc: 0.9000\n",
      "Epoch 97/100\n",
      "750/750 [==============================] - 0s 41us/sample - loss: 0.2217 - acc: 0.9000\n",
      "Epoch 98/100\n",
      "750/750 [==============================] - 0s 41us/sample - loss: 0.2215 - acc: 0.9000\n",
      "Epoch 99/100\n",
      "750/750 [==============================] - 0s 42us/sample - loss: 0.2212 - acc: 0.9000\n",
      "Epoch 100/100\n",
      "750/750 [==============================] - 0s 41us/sample - loss: 0.2210 - acc: 0.9000\n"
     ]
    }
   ],
   "source": [
    "# Fit the model to the training data\n",
    "new_fit_model = new_model.fit(X_moon_train_scaled, y_moon_train, epochs=100, shuffle=True)"
   ]
  },
  {
   "cell_type": "markdown",
   "metadata": {},
   "source": [
    "Note: as the number of neurons increased within the hidden layer (based on the training metrics of the new model), the classification accuracy improves. Accuracy was not yielded as perfect however (0.900 compared to 1.000 after 100 epochs). \n",
    "\n",
    "Summary: as input data becomes more complex, neural networks will require more and more optimization teaks to acheive their desired accuracy."
   ]
  },
  {
   "cell_type": "markdown",
   "metadata": {},
   "source": [
    "### 19.3.2 Categorical Variables\n",
    "Note: one-hot encoding - pre-processes categorical variable into binary enoding; downside is that it is very memory intensive.\n",
    "\n",
    "Therefore, categorical variables with a large number of unique values; process of reducing the number of unique categorical values in a dataset is known as bucketing or binning.   "
   ]
  },
  {
   "cell_type": "code",
   "execution_count": null,
   "metadata": {},
   "outputs": [],
   "source": []
  }
 ],
 "metadata": {
  "kernelspec": {
   "display_name": "mlenv",
   "language": "python",
   "name": "mlenv"
  },
  "language_info": {
   "codemirror_mode": {
    "name": "ipython",
    "version": 3
   },
   "file_extension": ".py",
   "mimetype": "text/x-python",
   "name": "python",
   "nbconvert_exporter": "python",
   "pygments_lexer": "ipython3",
   "version": "3.7.7"
  }
 },
 "nbformat": 4,
 "nbformat_minor": 4
}
