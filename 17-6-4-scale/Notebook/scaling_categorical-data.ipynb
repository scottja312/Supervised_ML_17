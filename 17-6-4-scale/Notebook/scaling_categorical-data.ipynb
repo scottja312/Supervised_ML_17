{
 "cells": [
  {
   "cell_type": "markdown",
   "metadata": {},
   "source": [
    "## Scale and Normalize Categorical Dataset\n",
    "Important summary points:\n",
    "    \n",
    "    1) Data scaling and normalization are necessary when preparing data for machine learning.\n",
    "    \n",
    "    2) Features can have different scales; and features with larger numbers can have a disproportionate impact on the model. \n",
    "    \n",
    "    3) Scaling changes the range of the data; normalization changes the shape of the distribution of the data. "
   ]
  },
  {
   "cell_type": "code",
   "execution_count": 1,
   "metadata": {},
   "outputs": [],
   "source": [
    "# Import dependencies.\n",
    "import pandas as pd\n",
    "from path import Path"
   ]
  },
  {
   "cell_type": "code",
   "execution_count": 3,
   "metadata": {
    "scrolled": true
   },
   "outputs": [
    {
     "data": {
      "text/html": [
       "<div>\n",
       "<style scoped>\n",
       "    .dataframe tbody tr th:only-of-type {\n",
       "        vertical-align: middle;\n",
       "    }\n",
       "\n",
       "    .dataframe tbody tr th {\n",
       "        vertical-align: top;\n",
       "    }\n",
       "\n",
       "    .dataframe thead th {\n",
       "        text-align: right;\n",
       "    }\n",
       "</style>\n",
       "<table border=\"1\" class=\"dataframe\">\n",
       "  <thead>\n",
       "    <tr style=\"text-align: right;\">\n",
       "      <th></th>\n",
       "      <th>amount</th>\n",
       "      <th>term</th>\n",
       "      <th>age</th>\n",
       "      <th>bad</th>\n",
       "      <th>education_Bachelor</th>\n",
       "      <th>education_High School or Below</th>\n",
       "      <th>education_Master or Above</th>\n",
       "      <th>education_college</th>\n",
       "      <th>gender_female</th>\n",
       "      <th>gender_male</th>\n",
       "      <th>month_num</th>\n",
       "    </tr>\n",
       "  </thead>\n",
       "  <tbody>\n",
       "    <tr>\n",
       "      <th>0</th>\n",
       "      <td>1000</td>\n",
       "      <td>30</td>\n",
       "      <td>45</td>\n",
       "      <td>0</td>\n",
       "      <td>0</td>\n",
       "      <td>1</td>\n",
       "      <td>0</td>\n",
       "      <td>0</td>\n",
       "      <td>0</td>\n",
       "      <td>1</td>\n",
       "      <td>6</td>\n",
       "    </tr>\n",
       "    <tr>\n",
       "      <th>1</th>\n",
       "      <td>1000</td>\n",
       "      <td>30</td>\n",
       "      <td>50</td>\n",
       "      <td>0</td>\n",
       "      <td>1</td>\n",
       "      <td>0</td>\n",
       "      <td>0</td>\n",
       "      <td>0</td>\n",
       "      <td>1</td>\n",
       "      <td>0</td>\n",
       "      <td>7</td>\n",
       "    </tr>\n",
       "    <tr>\n",
       "      <th>2</th>\n",
       "      <td>1000</td>\n",
       "      <td>30</td>\n",
       "      <td>33</td>\n",
       "      <td>0</td>\n",
       "      <td>1</td>\n",
       "      <td>0</td>\n",
       "      <td>0</td>\n",
       "      <td>0</td>\n",
       "      <td>1</td>\n",
       "      <td>0</td>\n",
       "      <td>8</td>\n",
       "    </tr>\n",
       "    <tr>\n",
       "      <th>3</th>\n",
       "      <td>1000</td>\n",
       "      <td>15</td>\n",
       "      <td>27</td>\n",
       "      <td>0</td>\n",
       "      <td>0</td>\n",
       "      <td>0</td>\n",
       "      <td>0</td>\n",
       "      <td>1</td>\n",
       "      <td>0</td>\n",
       "      <td>1</td>\n",
       "      <td>9</td>\n",
       "    </tr>\n",
       "    <tr>\n",
       "      <th>4</th>\n",
       "      <td>1000</td>\n",
       "      <td>30</td>\n",
       "      <td>28</td>\n",
       "      <td>0</td>\n",
       "      <td>0</td>\n",
       "      <td>0</td>\n",
       "      <td>0</td>\n",
       "      <td>1</td>\n",
       "      <td>1</td>\n",
       "      <td>0</td>\n",
       "      <td>10</td>\n",
       "    </tr>\n",
       "  </tbody>\n",
       "</table>\n",
       "</div>"
      ],
      "text/plain": [
       "   amount  term  age  bad  education_Bachelor  education_High School or Below  \\\n",
       "0    1000    30   45    0                   0                               1   \n",
       "1    1000    30   50    0                   1                               0   \n",
       "2    1000    30   33    0                   1                               0   \n",
       "3    1000    15   27    0                   0                               0   \n",
       "4    1000    30   28    0                   0                               0   \n",
       "\n",
       "   education_Master or Above  education_college  gender_female  gender_male  \\\n",
       "0                          0                  0              0            1   \n",
       "1                          0                  0              1            0   \n",
       "2                          0                  0              1            0   \n",
       "3                          0                  1              0            1   \n",
       "4                          0                  1              1            0   \n",
       "\n",
       "   month_num  \n",
       "0          6  \n",
       "1          7  \n",
       "2          8  \n",
       "3          9  \n",
       "4         10  "
      ]
     },
     "execution_count": 3,
     "metadata": {},
     "output_type": "execute_result"
    }
   ],
   "source": [
    "# Load data\n",
    "file_path = Path(\"../Resources/loans_data_encoded.csv\")\n",
    "encoded_df = pd.read_csv(file_path)\n",
    "encoded_df.head()"
   ]
  },
  {
   "cell_type": "markdown",
   "metadata": {},
   "source": [
    "## Scaling Data"
   ]
  },
  {
   "cell_type": "markdown",
   "metadata": {},
   "source": [
    "Note: previous notebooks values in each column were rescaled to be between 0 and 1. Scaling is often necessary with models that are sensitive to large numerial values.\n",
    "    1. Models that especially use scaling: SVM\n",
    "\n",
    "    2. Scaling is performed using Scikit-learn's StandardScaler module (scaling makes each feature be rescaled to make the mean as 0, and the standard deviation as 1).\n",
    "\n",
    "    3. The model->fit->predict/transform workflow is also used when scaling data."
   ]
  },
  {
   "cell_type": "code",
   "execution_count": 4,
   "metadata": {},
   "outputs": [],
   "source": [
    "# Creating the scaler instance\n",
    "from sklearn.preprocessing import StandardScaler\n",
    "data_scaler = StandardScaler()"
   ]
  },
  {
   "cell_type": "code",
   "execution_count": 5,
   "metadata": {},
   "outputs": [
    {
     "data": {
      "text/plain": [
       "array([[ 0.49337687,  0.89789115,  2.28404253, -0.81649658, -0.39336295,\n",
       "         1.17997648, -0.08980265, -0.88640526, -0.42665337,  0.42665337,\n",
       "        -0.16890147],\n",
       "       [ 0.49337687,  0.89789115,  3.10658738, -0.81649658,  2.54218146,\n",
       "        -0.84747452, -0.08980265, -0.88640526,  2.34382305, -2.34382305,\n",
       "         0.12951102],\n",
       "       [ 0.49337687,  0.89789115,  0.3099349 , -0.81649658,  2.54218146,\n",
       "        -0.84747452, -0.08980265, -0.88640526,  2.34382305, -2.34382305,\n",
       "         0.42792352],\n",
       "       [ 0.49337687, -0.97897162, -0.67711892, -0.81649658, -0.39336295,\n",
       "        -0.84747452, -0.08980265,  1.12815215, -0.42665337,  0.42665337,\n",
       "         0.72633602],\n",
       "       [ 0.49337687,  0.89789115, -0.51260995, -0.81649658, -0.39336295,\n",
       "        -0.84747452, -0.08980265,  1.12815215,  2.34382305, -2.34382305,\n",
       "         1.02474851]])"
      ]
     },
     "execution_count": 5,
     "metadata": {},
     "output_type": "execute_result"
    }
   ],
   "source": [
    "# Fitting the scaler\n",
    "loans_data_scaled = data_scaler.fit_transform(encoded_df)\n",
    "loans_data_scaled[:5]"
   ]
  },
  {
   "cell_type": "code",
   "execution_count": 6,
   "metadata": {},
   "outputs": [
    {
     "name": "stdout",
     "output_type": "stream",
     "text": [
      "-3.552713678800501e-16\n",
      "0.9999999999999999\n"
     ]
    }
   ],
   "source": [
    "import numpy as np\n",
    "print(np.mean(loans_data_scaled[:,0]))\n",
    "print(np.std(loans_data_scaled[:,0]))"
   ]
  },
  {
   "cell_type": "code",
   "execution_count": 7,
   "metadata": {},
   "outputs": [
    {
     "data": {
      "text/plain": [
       "(500, 11)"
      ]
     },
     "execution_count": 7,
     "metadata": {},
     "output_type": "execute_result"
    }
   ],
   "source": [
    "# Define shape of X of loans_data_scaled\n",
    "loans_data_scaled.shape"
   ]
  },
  {
   "cell_type": "markdown",
   "metadata": {},
   "source": [
    "#### Skill Drill: \n",
    "Create a for loop to make sure all columns are standardized\n"
   ]
  },
  {
   "cell_type": "code",
   "execution_count": 9,
   "metadata": {},
   "outputs": [
    {
     "name": "stdout",
     "output_type": "stream",
     "text": [
      "[[ 0.49337687  0.89789115  2.28404253 ... -0.42665337  0.42665337\n",
      "  -0.16890147]\n",
      " [ 0.49337687  0.89789115  3.10658738 ...  2.34382305 -2.34382305\n",
      "   0.12951102]\n",
      " [ 0.49337687  0.89789115  0.3099349  ...  2.34382305 -2.34382305\n",
      "   0.42792352]\n",
      " ...\n",
      " [-1.24386563 -0.97897162 -0.18359201 ... -0.42665337  0.42665337\n",
      "  -0.16890147]\n",
      " [ 0.49337687  0.89789115  1.13247975 ...  2.34382305 -2.34382305\n",
      "  -1.06413896]\n",
      " [ 0.49337687  0.89789115 -0.51260995 ... -0.42665337  0.42665337\n",
      "  -1.06413896]]\n"
     ]
    }
   ],
   "source": [
    "# Import loans_data_scaled into a df\n",
    "print(loans_data_scaled)"
   ]
  },
  {
   "cell_type": "code",
   "execution_count": 8,
   "metadata": {},
   "outputs": [
    {
     "ename": "NameError",
     "evalue": "name 'loans_data_scaled_df' is not defined",
     "output_type": "error",
     "traceback": [
      "\u001b[0;31m---------------------------------------------------------------------------\u001b[0m",
      "\u001b[0;31mNameError\u001b[0m                                 Traceback (most recent call last)",
      "\u001b[0;32m<ipython-input-8-4382681419be>\u001b[0m in \u001b[0;36m<module>\u001b[0;34m\u001b[0m\n\u001b[1;32m      1\u001b[0m \u001b[0;31m# creating a list of dataframe columns\u001b[0m\u001b[0;34m\u001b[0m\u001b[0;34m\u001b[0m\u001b[0;34m\u001b[0m\u001b[0m\n\u001b[0;32m----> 2\u001b[0;31m \u001b[0mcolumns\u001b[0m \u001b[0;34m=\u001b[0m \u001b[0mlist\u001b[0m\u001b[0;34m(\u001b[0m\u001b[0mloans_data_scaled_df\u001b[0m\u001b[0;34m)\u001b[0m\u001b[0;34m\u001b[0m\u001b[0;34m\u001b[0m\u001b[0m\n\u001b[0m\u001b[1;32m      3\u001b[0m \u001b[0;34m\u001b[0m\u001b[0m\n\u001b[1;32m      4\u001b[0m \u001b[0;32mfor\u001b[0m \u001b[0mi\u001b[0m \u001b[0;32min\u001b[0m \u001b[0mcolumns\u001b[0m\u001b[0;34m:\u001b[0m\u001b[0;34m\u001b[0m\u001b[0;34m\u001b[0m\u001b[0m\n\u001b[1;32m      5\u001b[0m \u001b[0;34m\u001b[0m\u001b[0m\n",
      "\u001b[0;31mNameError\u001b[0m: name 'loans_data_scaled_df' is not defined"
     ]
    }
   ],
   "source": [
    "# creating a list of dataframe columns \n",
    "columns = list(loans_data_scaled_df) \n",
    "  \n",
    "for i in columns: \n",
    "  \n",
    "    # printing the third element of the column \n",
    "    print (df[i][2]) "
   ]
  },
  {
   "cell_type": "code",
   "execution_count": null,
   "metadata": {},
   "outputs": [],
   "source": []
  }
 ],
 "metadata": {
  "file_extension": ".py",
  "kernelspec": {
   "display_name": "mlenv",
   "language": "python",
   "name": "mlenv"
  },
  "language_info": {
   "codemirror_mode": {
    "name": "ipython",
    "version": 3
   },
   "file_extension": ".py",
   "mimetype": "text/x-python",
   "name": "python",
   "nbconvert_exporter": "python",
   "pygments_lexer": "ipython3",
   "version": "3.7.7"
  },
  "mimetype": "text/x-python",
  "name": "python",
  "npconvert_exporter": "python",
  "pygments_lexer": "ipython3",
  "version": 3
 },
 "nbformat": 4,
 "nbformat_minor": 4
}
